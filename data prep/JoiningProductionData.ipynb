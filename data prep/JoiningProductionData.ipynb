{
 "cells": [
  {
   "cell_type": "markdown",
   "metadata": {},
   "source": [
    "# Joining Production Data\n",
    "In this notebook we will join the separate production datasets into one dataset, so we can use this for further analysis."
   ]
  },
  {
   "cell_type": "code",
   "execution_count": 2,
   "metadata": {},
   "outputs": [
    {
     "name": "stdout",
     "output_type": "stream",
     "text": [
      "Pandas version: 2.2.3\n"
     ]
    }
   ],
   "source": [
    "import os\n",
    "import pandas as pd\n",
    "\n",
    "pd.set_option('display.max_columns', None)\n",
    "\n",
    "print('Pandas version:', pd.__version__) # 2.2.3"
   ]
  },
  {
   "cell_type": "markdown",
   "metadata": {},
   "source": [
    "## Loading the datasets\n",
    "We will load all the data files that are in the sub folders in the ProductionData folder. When new data files are added the following code can be run again to save the datasets."
   ]
  },
  {
   "cell_type": "code",
   "execution_count": 5,
   "metadata": {},
   "outputs": [],
   "source": [
    "folder_path = '../data/ProductionData/'\n",
    "\n",
    "dataframes = []\n",
    "exclude_files = [\n",
    "    'electriciteitsmix-2021-uur-data.csv',\n",
    "    'electriciteitsmix-2022-uur-data.csv',\n",
    "    'electriciteitsmix-2023-uur-data.csv'\n",
    "]\n",
    "\n",
    "for root, dirs, files in os.walk(folder_path):\n",
    "    if root != folder_path:\n",
    "        for file in files:\n",
    "            if file.endswith('.csv') and file not in exclude_files:\n",
    "                file_path = os.path.join(root, file)\n",
    "                # print(file_path)\n",
    "                df = pd.read_csv(file_path)\n",
    "                dataframes.append(df)\n",
    "\n",
    "combined_df = pd.concat(dataframes, ignore_index=True)\n",
    "combined_df.to_csv('../data/ProductionData/combined_data.csv')"
   ]
  }
 ],
 "metadata": {
  "kernelspec": {
   "display_name": "Python 3",
   "language": "python",
   "name": "python3"
  },
  "language_info": {
   "codemirror_mode": {
    "name": "ipython",
    "version": 3
   },
   "file_extension": ".py",
   "mimetype": "text/x-python",
   "name": "python",
   "nbconvert_exporter": "python",
   "pygments_lexer": "ipython3",
   "version": "3.12.6"
  }
 },
 "nbformat": 4,
 "nbformat_minor": 2
}
